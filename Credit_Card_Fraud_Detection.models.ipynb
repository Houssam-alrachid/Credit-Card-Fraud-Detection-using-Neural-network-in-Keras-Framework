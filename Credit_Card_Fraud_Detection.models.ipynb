{
 "cells": [
  {
   "cell_type": "markdown",
   "metadata": {},
   "source": [
    "<h1><center> Credit Card Fraud Detection </center></h1> "
   ]
  },
  {
   "cell_type": "markdown",
   "metadata": {},
   "source": [
    "<h2><center> Chapter 3 : Modeling </center></h2> "
   ]
  },
  {
   "cell_type": "markdown",
   "metadata": {},
   "source": [
    "## Content\n",
    "\n",
    "\n",
    "The goal of this project to develop a best suited algorithm to find the outliers or frauds in case of credit cards. We will implement several machine learning and deep learning algorithms and compare them and choose the best algorithm.\n",
    "We will implement algorithms like:\n",
    "\n",
    "1. Neural Network\n",
    "2. Logistic Regression \n",
    "3. K-Means\n"
   ]
  },
  {
   "cell_type": "code",
   "execution_count": 1,
   "metadata": {
    "scrolled": true
   },
   "outputs": [
    {
     "name": "stdout",
     "output_type": "stream",
     "text": [
      "Waiting for a Spark session to start...\n",
      "Spark Initialization Done! ApplicationId = app-20200322110207-0000\n",
      "KERNEL_ID = c02b7be0-89ee-4e5a-bd18-597c88fb962b\n",
      "Collecting keras-applications\n",
      "\u001b[?25l  Downloading https://files.pythonhosted.org/packages/71/e3/19762fdfc62877ae9102edf6342d71b28fbfd9dea3d2f96a882ce099b03f/Keras_Applications-1.0.8-py3-none-any.whl (50kB)\n",
      "\u001b[K    100% |################################| 51kB 1.4MB/s ta 0:00:011\n",
      "\u001b[?25hCollecting keras-preprocessing\n",
      "\u001b[?25l  Downloading https://files.pythonhosted.org/packages/28/6a/8c1f62c37212d9fc441a7e26736df51ce6f0e38455816445471f10da4f0a/Keras_Preprocessing-1.1.0-py2.py3-none-any.whl (41kB)\n",
      "\u001b[K    100% |################################| 51kB 1.8MB/s eta 0:00:01\n",
      "\u001b[?25hCollecting setuptools\n",
      "\u001b[?25l  Downloading https://files.pythonhosted.org/packages/1e/32/69e6ce8502a12af0cdcbb8de91f1cbafd4533f84d8fe17bf712f6200f21b/setuptools-46.1.1-py3-none-any.whl (582kB)\n",
      "\u001b[K    100% |################################| 583kB 3.3MB/s eta 0:00:01\n",
      "\u001b[?25hCollecting tensorflow==1.14.0\n",
      "\u001b[?25l  Downloading https://files.pythonhosted.org/packages/de/f0/96fb2e0412ae9692dbf400e5b04432885f677ad6241c088ccc5fe7724d69/tensorflow-1.14.0-cp36-cp36m-manylinux1_x86_64.whl (109.2MB)\n",
      "\u001b[K    100% |################################| 109.2MB 206kB/s eta 0:00:01 1% |                                | 1.6MB 21.8MB/s eta 0:00:05\n",
      "\u001b[?25hCollecting keras==2.2.5\n",
      "\u001b[?25l  Downloading https://files.pythonhosted.org/packages/f8/ba/2d058dcf1b85b9c212cc58264c98a4a7dd92c989b798823cc5690d062bb2/Keras-2.2.5-py2.py3-none-any.whl (336kB)\n",
      "\u001b[K    100% |################################| 337kB 4.1MB/s eta 0:00:01\n",
      "\u001b[?25hCollecting numpy>=1.9.1 (from keras-applications)\n",
      "\u001b[?25l  Downloading https://files.pythonhosted.org/packages/07/08/a549ba8b061005bb629b76adc000f3caaaf881028b963c2e18f811c6edc1/numpy-1.18.2-cp36-cp36m-manylinux1_x86_64.whl (20.2MB)\n",
      "\u001b[K    100% |################################| 20.2MB 772kB/s eta 0:00:01\n",
      "\u001b[?25hCollecting h5py (from keras-applications)\n",
      "\u001b[?25l  Downloading https://files.pythonhosted.org/packages/60/06/cafdd44889200e5438b897388f3075b52a8ef01f28a17366d91de0fa2d05/h5py-2.10.0-cp36-cp36m-manylinux1_x86_64.whl (2.9MB)\n",
      "\u001b[K    100% |################################| 2.9MB 2.2MB/s eta 0:00:01\n",
      "\u001b[?25hCollecting six>=1.9.0 (from keras-preprocessing)\n",
      "  Downloading https://files.pythonhosted.org/packages/65/eb/1f97cb97bfc2390a276969c6fae16075da282f5058082d4cb10c6c5c1dba/six-1.14.0-py2.py3-none-any.whl\n",
      "Collecting google-pasta>=0.1.6 (from tensorflow==1.14.0)\n",
      "\u001b[?25l  Downloading https://files.pythonhosted.org/packages/a3/de/c648ef6835192e6e2cc03f40b19eeda4382c49b5bafb43d88b931c4c74ac/google_pasta-0.2.0-py3-none-any.whl (57kB)\n",
      "\u001b[K    100% |################################| 61kB 2.0MB/s eta 0:00:01\n",
      "\u001b[?25hCollecting gast>=0.2.0 (from tensorflow==1.14.0)\n",
      "  Downloading https://files.pythonhosted.org/packages/d6/84/759f5dd23fec8ba71952d97bcc7e2c9d7d63bdc582421f3cd4be845f0c98/gast-0.3.3-py2.py3-none-any.whl\n",
      "Collecting tensorboard<1.15.0,>=1.14.0 (from tensorflow==1.14.0)\n",
      "\u001b[?25l  Downloading https://files.pythonhosted.org/packages/91/2d/2ed263449a078cd9c8a9ba50ebd50123adf1f8cfbea1492f9084169b89d9/tensorboard-1.14.0-py3-none-any.whl (3.1MB)\n",
      "\u001b[K    100% |################################| 3.2MB 2.4MB/s eta 0:00:01\n",
      "\u001b[?25hCollecting termcolor>=1.1.0 (from tensorflow==1.14.0)\n",
      "  Downloading https://files.pythonhosted.org/packages/8a/48/a76be51647d0eb9f10e2a4511bf3ffb8cc1e6b14e9e4fab46173aa79f981/termcolor-1.1.0.tar.gz\n",
      "Collecting tensorflow-estimator<1.15.0rc0,>=1.14.0rc0 (from tensorflow==1.14.0)\n",
      "\u001b[?25l  Downloading https://files.pythonhosted.org/packages/3c/d5/21860a5b11caf0678fbc8319341b0ae21a07156911132e0e71bffed0510d/tensorflow_estimator-1.14.0-py2.py3-none-any.whl (488kB)\n",
      "\u001b[K    100% |################################| 491kB 3.1MB/s eta 0:00:01\n",
      "\u001b[?25hCollecting protobuf>=3.6.1 (from tensorflow==1.14.0)\n",
      "\u001b[?25l  Downloading https://files.pythonhosted.org/packages/57/02/5432412c162989260fab61fa65e0a490c1872739eb91a659896e4d554b26/protobuf-3.11.3-cp36-cp36m-manylinux1_x86_64.whl (1.3MB)\n",
      "\u001b[K    100% |################################| 1.3MB 2.8MB/s eta 0:00:01\n",
      "\u001b[?25hCollecting astor>=0.6.0 (from tensorflow==1.14.0)\n",
      "  Downloading https://files.pythonhosted.org/packages/c3/88/97eef84f48fa04fbd6750e62dcceafba6c63c81b7ac1420856c8dcc0a3f9/astor-0.8.1-py2.py3-none-any.whl\n",
      "Collecting wrapt>=1.11.1 (from tensorflow==1.14.0)\n",
      "  Downloading https://files.pythonhosted.org/packages/82/f7/e43cefbe88c5fd371f4cf0cf5eb3feccd07515af9fd6cf7dbf1d1793a797/wrapt-1.12.1.tar.gz\n",
      "Collecting grpcio>=1.8.6 (from tensorflow==1.14.0)\n",
      "\u001b[?25l  Downloading https://files.pythonhosted.org/packages/28/df/1f8a284a5e5819ae07d50bd76996d6f7208afef7533e4896fa1c6445574f/grpcio-1.27.2-cp36-cp36m-manylinux2010_x86_64.whl (2.7MB)\n",
      "\u001b[K    100% |################################| 2.7MB 2.5MB/s eta 0:00:01\n",
      "\u001b[?25hCollecting wheel>=0.26 (from tensorflow==1.14.0)\n",
      "  Downloading https://files.pythonhosted.org/packages/8c/23/848298cccf8e40f5bbb59009b32848a4c38f4e7f3364297ab3c3e2e2cd14/wheel-0.34.2-py2.py3-none-any.whl\n",
      "Collecting absl-py>=0.7.0 (from tensorflow==1.14.0)\n",
      "\u001b[?25l  Downloading https://files.pythonhosted.org/packages/1a/53/9243c600e047bd4c3df9e69cfabc1e8004a82cac2e0c484580a78a94ba2a/absl-py-0.9.0.tar.gz (104kB)\n",
      "\u001b[K    100% |################################| 112kB 3.5MB/s eta 0:00:01\n",
      "\u001b[?25hCollecting scipy>=0.14 (from keras==2.2.5)\n",
      "\u001b[?25l  Downloading https://files.pythonhosted.org/packages/dc/29/162476fd44203116e7980cfbd9352eef9db37c49445d1fec35509022f6aa/scipy-1.4.1-cp36-cp36m-manylinux1_x86_64.whl (26.1MB)\n",
      "\u001b[K    100% |################################| 26.1MB 754kB/s eta 0:00:01  6% |##                              | 1.7MB 45.8MB/s eta 0:00:01    23% |#######                         | 6.1MB 45.6MB/s eta 0:00:01\n",
      "\u001b[?25hCollecting pyyaml (from keras==2.2.5)\n",
      "\u001b[?25l  Downloading https://files.pythonhosted.org/packages/64/c2/b80047c7ac2478f9501676c988a5411ed5572f35d1beff9cae07d321512c/PyYAML-5.3.1.tar.gz (269kB)\n",
      "\u001b[K    100% |################################| 276kB 3.2MB/s eta 0:00:01\n",
      "\u001b[?25hCollecting markdown>=2.6.8 (from tensorboard<1.15.0,>=1.14.0->tensorflow==1.14.0)\n",
      "\u001b[?25l  Downloading https://files.pythonhosted.org/packages/ab/c4/ba46d44855e6eb1770a12edace5a165a0c6de13349f592b9036257f3c3d3/Markdown-3.2.1-py2.py3-none-any.whl (88kB)\n",
      "\u001b[K    100% |################################| 92kB 3.7MB/s eta 0:00:01\n",
      "\u001b[?25hCollecting werkzeug>=0.11.15 (from tensorboard<1.15.0,>=1.14.0->tensorflow==1.14.0)\n",
      "\u001b[?25l  Downloading https://files.pythonhosted.org/packages/ba/a5/d6f8a6e71f15364d35678a4ec8a0186f980b3bd2545f40ad51dd26a87fb1/Werkzeug-1.0.0-py2.py3-none-any.whl (298kB)\n",
      "\u001b[K    100% |################################| 307kB 4.5MB/s eta 0:00:01\n",
      "\u001b[?25hBuilding wheels for collected packages: termcolor, wrapt, absl-py, pyyaml\n",
      "  Building wheel for termcolor (setup.py) ... \u001b[?25ldone\n",
      "\u001b[?25h  Stored in directory: /home/spark/shared/.cache/pip/wheels/7c/06/54/bc84598ba1daf8f970247f550b175aaaee85f68b4b0c5ab2c6\n",
      "  Building wheel for wrapt (setup.py) ... \u001b[?25ldone\n",
      "\u001b[?25h  Stored in directory: /home/spark/shared/.cache/pip/wheels/b1/c2/ed/d62208260edbd3fa7156545c00ef966f45f2063d0a84f8208a\n",
      "  Building wheel for absl-py (setup.py) ... \u001b[?25ldone\n",
      "\u001b[?25h  Stored in directory: /home/spark/shared/.cache/pip/wheels/8e/28/49/fad4e7f0b9a1227708cbbee4487ac8558a7334849cb81c813d\n",
      "  Building wheel for pyyaml (setup.py) ... \u001b[?25ldone\n",
      "\u001b[?25h  Stored in directory: /home/spark/shared/.cache/pip/wheels/a7/c1/ea/cf5bd31012e735dc1dfea3131a2d5eae7978b251083d6247bd\n",
      "Successfully built termcolor wrapt absl-py pyyaml\n",
      "Installing collected packages: numpy, six, h5py, keras-applications, keras-preprocessing, setuptools, google-pasta, gast, markdown, absl-py, werkzeug, protobuf, wheel, grpcio, tensorboard, termcolor, tensorflow-estimator, astor, wrapt, tensorflow, scipy, pyyaml, keras\n",
      "Successfully installed absl-py-0.9.0 astor-0.8.1 gast-0.3.3 google-pasta-0.2.0 grpcio-1.27.2 h5py-2.10.0 keras-2.2.5 keras-applications-1.0.8 keras-preprocessing-1.1.0 markdown-3.2.1 numpy-1.18.2 protobuf-3.11.3 pyyaml-5.3.1 scipy-1.4.1 setuptools-46.1.1 six-1.14.0 tensorboard-1.14.0 tensorflow-1.14.0 tensorflow-estimator-1.14.0 termcolor-1.1.0 werkzeug-1.0.0 wheel-0.34.2 wrapt-1.12.1\n"
     ]
    }
   ],
   "source": [
    "!pip install --upgrade keras-applications keras-preprocessing setuptools tensorflow==1.14.0 keras==2.2.5"
   ]
  },
  {
   "cell_type": "code",
   "execution_count": 2,
   "metadata": {},
   "outputs": [
    {
     "name": "stderr",
     "output_type": "stream",
     "text": [
      "Using TensorFlow backend.\n"
     ]
    }
   ],
   "source": [
    "import tensorflow\n",
    "if not tensorflow.__version__ == '1.14.0':\n",
    "    print(tensorflow.__version__)\n",
    "    raise ValueError('please upgrade to TensorFlow 1.14.0, or restart your Kernel (Kernel->Restart & Clear Output)')\n",
    "\n",
    "import keras\n",
    "if not keras.__version__ == '2.2.5':\n",
    "    print(keras.__version__)\n",
    "    raise ValueError('please upgrade to Keras 2.2.5, or restart your Kernel (Kernel->Restart & Clear Output)')"
   ]
  },
  {
   "cell_type": "markdown",
   "metadata": {},
   "source": [
    "### Importing Needed packages"
   ]
  },
  {
   "cell_type": "code",
   "execution_count": 32,
   "metadata": {},
   "outputs": [],
   "source": [
    "import pandas as pd\n",
    "import numpy as np\n",
    "import matplotlib.pyplot as plt\n",
    "import seaborn as sns\n",
    "\n",
    "from sklearn.preprocessing import StandardScaler\n",
    "from sklearn.model_selection import train_test_split\n",
    "from sklearn.metrics import confusion_matrix, classification_report, accuracy_score\n",
    "from sklearn.linear_model import LogisticRegression\n",
    "from sklearn.cluster import KMeans \n",
    "\n",
    "from keras.models import load_model\n",
    "from keras.callbacks import ModelCheckpoint\n",
    "from keras.models import Sequential\n",
    "from keras.layers import Dense\n",
    "from keras.layers import Dropout\n"
   ]
  },
  {
   "cell_type": "code",
   "execution_count": 4,
   "metadata": {},
   "outputs": [],
   "source": [
    "# Import Data into IBM's Watson Studio\n",
    "\n",
    "import types\n",
    "import pandas as pd\n",
    "from botocore.client import Config\n",
    "import ibm_boto3\n",
    "\n",
    "def __iter__(self): return 0\n",
    "\n",
    "# @hidden_cell\n",
    "# The following code accesses a file in your IBM Cloud Object Storage. It includes your credentials.\n",
    "# You might want to remove those credentials before you share the notebook.\n",
    "client_84b0ff1823ab47db8f9e6aaaf1af72b0 = ibm_boto3.client(service_name='s3',\n",
    "    ibm_api_key_id='JEMi_wmafQCsJME_C0BjJpnQSoDSi6xu9VgwHGN8I8FO',\n",
    "    ibm_auth_endpoint=\"https://iam.eu-gb.bluemix.net/oidc/token\",\n",
    "    config=Config(signature_version='oauth'),\n",
    "    endpoint_url='https://s3.eu-geo.objectstorage.service.networklayer.com')\n",
    "\n",
    "body = client_84b0ff1823ab47db8f9e6aaaf1af72b0.get_object(Bucket='courseraml-donotdelete-pr-lavjj7apvyxhwu',Key='creditcard.csv')['Body']\n",
    "# add missing __iter__ method, so pandas accepts body as file-like object\n",
    "if not hasattr(body, \"__iter__\"): body.__iter__ = types.MethodType( __iter__, body )\n",
    "\n",
    "ccfd = pd.read_csv(body)\n",
    "\n",
    "# Remove the column 'Time' and standardize the variable 'Amount'\n",
    "ccfd_stand = ccfd.drop(['Time'], axis=1)\n",
    "ccfd_stand['Amount'] = StandardScaler().fit_transform(ccfd_stand['Amount'].values.reshape(-1, 1))"
   ]
  },
  {
   "cell_type": "markdown",
   "metadata": {},
   "source": [
    "## Implementation"
   ]
  },
  {
   "cell_type": "markdown",
   "metadata": {},
   "source": [
    "### 1. Artificial Neural Network\n",
    "\n",
    "In this part of the series, we will train an Artificial Neural Network, implemented in Keras in unsupervised (or semi-supervised) fashion for fraud detection in credit card transaction data. \n",
    "\n"
   ]
  },
  {
   "cell_type": "code",
   "execution_count": 5,
   "metadata": {},
   "outputs": [
    {
     "name": "stdout",
     "output_type": "stream",
     "text": [
      "(284807, 29)\n",
      "(284807,)\n"
     ]
    }
   ],
   "source": [
    "#seperating the X and the Y from the dataset\n",
    "X = ccfd_stand.drop(['Class'], axis=1)\n",
    "Y = ccfd_stand[\"Class\"]\n",
    "print(X.shape)\n",
    "print(Y.shape)\n",
    "\n",
    "#getting just the values for the sake of processing (its a numpy array with no columns)\n",
    "X_data=X.values\n",
    "Y_data=Y.values\n",
    "\n",
    "X_train, X_test, y_train, y_test = train_test_split(X_data, Y_data, test_size = 0.2, random_state = 42)"
   ]
  },
  {
   "cell_type": "code",
   "execution_count": 8,
   "metadata": {},
   "outputs": [],
   "source": [
    "# Initialising the ANN\n",
    "classifier = Sequential()\n",
    "\n",
    "# Adding the input layer and the first hidden layer\n",
    "classifier.add(Dense(units =16 , kernel_initializer = 'uniform', activation = 'relu', input_dim = 29))\n",
    "\n",
    "# Adding the second hidden layer\n",
    "classifier.add(Dense(units = 24, kernel_initializer = 'uniform', activation = 'relu'))\n",
    "\n",
    "# Dropout\n",
    "Dropout(0.5)\n",
    "\n",
    "# Adding the third hidden layer\n",
    "classifier.add(Dense(units = 20, kernel_initializer = 'uniform', activation = 'relu'))\n",
    "\n",
    "# Adding the fourth hidden layer\n",
    "classifier.add(Dense(units = 24, kernel_initializer = 'uniform', activation = 'relu'))\n",
    "\n",
    "# Adding the output layer\n",
    "classifier.add(Dense(units = 1, kernel_initializer = 'uniform', activation = 'sigmoid'))\n"
   ]
  },
  {
   "cell_type": "code",
   "execution_count": 9,
   "metadata": {
    "scrolled": true
   },
   "outputs": [
    {
     "name": "stdout",
     "output_type": "stream",
     "text": [
      "Model: \"sequential_2\"\n",
      "_________________________________________________________________\n",
      "Layer (type)                 Output Shape              Param #   \n",
      "=================================================================\n",
      "dense_6 (Dense)              (None, 16)                480       \n",
      "_________________________________________________________________\n",
      "dense_7 (Dense)              (None, 24)                408       \n",
      "_________________________________________________________________\n",
      "dense_8 (Dense)              (None, 20)                500       \n",
      "_________________________________________________________________\n",
      "dense_9 (Dense)              (None, 24)                504       \n",
      "_________________________________________________________________\n",
      "dense_10 (Dense)             (None, 1)                 25        \n",
      "=================================================================\n",
      "Total params: 1,917\n",
      "Trainable params: 1,917\n",
      "Non-trainable params: 0\n",
      "_________________________________________________________________\n"
     ]
    }
   ],
   "source": [
    "classifier.summary()"
   ]
  },
  {
   "cell_type": "code",
   "execution_count": 10,
   "metadata": {
    "scrolled": true
   },
   "outputs": [
    {
     "name": "stderr",
     "output_type": "stream",
     "text": [
      "WARNING:tensorflow:From /home/spark/shared/user-libs/python3.6/keras/optimizers.py:793: The name tf.train.Optimizer is deprecated. Please use tf.compat.v1.train.Optimizer instead.\n",
      "\n",
      "WARNING:tensorflow:From /home/spark/shared/user-libs/python3.6/keras/backend/tensorflow_backend.py:3657: The name tf.log is deprecated. Please use tf.math.log instead.\n",
      "\n",
      "WARNING:tensorflow:From /home/spark/shared/user-libs/python3.6/tensorflow/python/ops/nn_impl.py:180: add_dispatch_support.<locals>.wrapper (from tensorflow.python.ops.array_ops) is deprecated and will be removed in a future version.\n",
      "Instructions for updating:\n",
      "Use tf.where in 2.0, which has the same broadcast rule as np.where\n",
      "WARNING:tensorflow:From /home/spark/shared/user-libs/python3.6/keras/backend/tensorflow_backend.py:1033: The name tf.assign_add is deprecated. Please use tf.compat.v1.assign_add instead.\n",
      "\n"
     ]
    },
    {
     "name": "stdout",
     "output_type": "stream",
     "text": [
      "Train on 182276 samples, validate on 45569 samples\n",
      "Epoch 1/100\n",
      "182276/182276 [==============================] - 8s 46us/step - loss: 0.0179 - acc: 0.9980 - val_loss: 0.0038 - val_acc: 0.9981\n",
      "\n",
      "Epoch 00001: val_loss improved from inf to 0.00376, saving model to model.h5\n",
      "Epoch 2/100\n",
      "182276/182276 [==============================] - 7s 40us/step - loss: 0.0036 - acc: 0.9990 - val_loss: 0.0035 - val_acc: 0.9993\n",
      "\n",
      "Epoch 00002: val_loss improved from 0.00376 to 0.00347, saving model to model.h5\n",
      "Epoch 3/100\n",
      "182276/182276 [==============================] - 7s 41us/step - loss: 0.0033 - acc: 0.9994 - val_loss: 0.0032 - val_acc: 0.9994\n",
      "\n",
      "Epoch 00003: val_loss improved from 0.00347 to 0.00316, saving model to model.h5\n",
      "Epoch 4/100\n",
      "182276/182276 [==============================] - 7s 41us/step - loss: 0.0030 - acc: 0.9994 - val_loss: 0.0029 - val_acc: 0.9994\n",
      "\n",
      "Epoch 00004: val_loss improved from 0.00316 to 0.00287, saving model to model.h5\n",
      "Epoch 5/100\n",
      "182276/182276 [==============================] - 7s 40us/step - loss: 0.0028 - acc: 0.9994 - val_loss: 0.0030 - val_acc: 0.9993\n",
      "\n",
      "Epoch 00005: val_loss did not improve from 0.00287\n",
      "Epoch 6/100\n",
      "182276/182276 [==============================] - 7s 40us/step - loss: 0.0027 - acc: 0.9994 - val_loss: 0.0029 - val_acc: 0.9993\n",
      "\n",
      "Epoch 00006: val_loss did not improve from 0.00287\n",
      "Epoch 7/100\n",
      "182276/182276 [==============================] - 7s 40us/step - loss: 0.0026 - acc: 0.9994 - val_loss: 0.0031 - val_acc: 0.9994\n",
      "\n",
      "Epoch 00007: val_loss did not improve from 0.00287\n",
      "Epoch 8/100\n",
      "182276/182276 [==============================] - 7s 40us/step - loss: 0.0025 - acc: 0.9994 - val_loss: 0.0032 - val_acc: 0.9993\n",
      "\n",
      "Epoch 00008: val_loss did not improve from 0.00287\n",
      "Epoch 9/100\n",
      "182276/182276 [==============================] - 7s 40us/step - loss: 0.0024 - acc: 0.9994 - val_loss: 0.0029 - val_acc: 0.9993\n",
      "\n",
      "Epoch 00009: val_loss did not improve from 0.00287\n",
      "Epoch 10/100\n",
      "182276/182276 [==============================] - 7s 40us/step - loss: 0.0023 - acc: 0.9994 - val_loss: 0.0030 - val_acc: 0.9993\n",
      "\n",
      "Epoch 00010: val_loss did not improve from 0.00287\n",
      "Epoch 11/100\n",
      "182276/182276 [==============================] - 7s 40us/step - loss: 0.0023 - acc: 0.9995 - val_loss: 0.0030 - val_acc: 0.9993\n",
      "\n",
      "Epoch 00011: val_loss did not improve from 0.00287\n",
      "Epoch 12/100\n",
      "182276/182276 [==============================] - 7s 40us/step - loss: 0.0023 - acc: 0.9995 - val_loss: 0.0032 - val_acc: 0.9993\n",
      "\n",
      "Epoch 00012: val_loss did not improve from 0.00287\n",
      "Epoch 13/100\n",
      "182276/182276 [==============================] - 7s 40us/step - loss: 0.0022 - acc: 0.9995 - val_loss: 0.0032 - val_acc: 0.9994\n",
      "\n",
      "Epoch 00013: val_loss did not improve from 0.00287\n",
      "Epoch 14/100\n",
      "182276/182276 [==============================] - 7s 40us/step - loss: 0.0023 - acc: 0.9995 - val_loss: 0.0031 - val_acc: 0.9993\n",
      "\n",
      "Epoch 00014: val_loss did not improve from 0.00287\n",
      "Epoch 15/100\n",
      "182276/182276 [==============================] - 7s 41us/step - loss: 0.0022 - acc: 0.9995 - val_loss: 0.0031 - val_acc: 0.9993\n",
      "\n",
      "Epoch 00015: val_loss did not improve from 0.00287\n",
      "Epoch 16/100\n",
      "182276/182276 [==============================] - 7s 40us/step - loss: 0.0023 - acc: 0.9995 - val_loss: 0.0031 - val_acc: 0.9993\n",
      "\n",
      "Epoch 00016: val_loss did not improve from 0.00287\n",
      "Epoch 17/100\n",
      "182276/182276 [==============================] - 7s 40us/step - loss: 0.0022 - acc: 0.9995 - val_loss: 0.0031 - val_acc: 0.9993\n",
      "\n",
      "Epoch 00017: val_loss did not improve from 0.00287\n",
      "Epoch 18/100\n",
      "182276/182276 [==============================] - 7s 39us/step - loss: 0.0021 - acc: 0.9995 - val_loss: 0.0029 - val_acc: 0.9993\n",
      "\n",
      "Epoch 00018: val_loss did not improve from 0.00287\n",
      "Epoch 19/100\n",
      "182276/182276 [==============================] - 7s 40us/step - loss: 0.0022 - acc: 0.9995 - val_loss: 0.0028 - val_acc: 0.9993\n",
      "\n",
      "Epoch 00019: val_loss improved from 0.00287 to 0.00282, saving model to model.h5\n",
      "Epoch 20/100\n",
      "182276/182276 [==============================] - 7s 40us/step - loss: 0.0020 - acc: 0.9995 - val_loss: 0.0032 - val_acc: 0.9993\n",
      "\n",
      "Epoch 00020: val_loss did not improve from 0.00282\n",
      "Epoch 21/100\n",
      "182276/182276 [==============================] - 7s 40us/step - loss: 0.0020 - acc: 0.9995 - val_loss: 0.0031 - val_acc: 0.9994\n",
      "\n",
      "Epoch 00021: val_loss did not improve from 0.00282\n",
      "Epoch 22/100\n",
      "182276/182276 [==============================] - 7s 40us/step - loss: 0.0020 - acc: 0.9995 - val_loss: 0.0030 - val_acc: 0.9993\n",
      "\n",
      "Epoch 00022: val_loss did not improve from 0.00282\n",
      "Epoch 23/100\n",
      "182276/182276 [==============================] - 7s 40us/step - loss: 0.0020 - acc: 0.9996 - val_loss: 0.0033 - val_acc: 0.9993\n",
      "\n",
      "Epoch 00023: val_loss did not improve from 0.00282\n",
      "Epoch 24/100\n",
      "182276/182276 [==============================] - 7s 40us/step - loss: 0.0020 - acc: 0.9995 - val_loss: 0.0029 - val_acc: 0.9993\n",
      "\n",
      "Epoch 00024: val_loss did not improve from 0.00282\n",
      "Epoch 25/100\n",
      "182276/182276 [==============================] - 7s 40us/step - loss: 0.0018 - acc: 0.9996 - val_loss: 0.0035 - val_acc: 0.9993\n",
      "\n",
      "Epoch 00025: val_loss did not improve from 0.00282\n",
      "Epoch 26/100\n",
      "182276/182276 [==============================] - 7s 39us/step - loss: 0.0019 - acc: 0.9996 - val_loss: 0.0031 - val_acc: 0.9994\n",
      "\n",
      "Epoch 00026: val_loss did not improve from 0.00282\n",
      "Epoch 27/100\n",
      "182276/182276 [==============================] - 7s 40us/step - loss: 0.0018 - acc: 0.9996 - val_loss: 0.0030 - val_acc: 0.9993\n",
      "\n",
      "Epoch 00027: val_loss did not improve from 0.00282\n",
      "Epoch 28/100\n",
      "182276/182276 [==============================] - 7s 40us/step - loss: 0.0018 - acc: 0.9996 - val_loss: 0.0030 - val_acc: 0.9994\n",
      "\n",
      "Epoch 00028: val_loss did not improve from 0.00282\n",
      "Epoch 29/100\n",
      "182276/182276 [==============================] - 7s 40us/step - loss: 0.0018 - acc: 0.9996 - val_loss: 0.0031 - val_acc: 0.9994\n",
      "\n",
      "Epoch 00029: val_loss did not improve from 0.00282\n",
      "Epoch 30/100\n",
      "182276/182276 [==============================] - 7s 40us/step - loss: 0.0018 - acc: 0.9996 - val_loss: 0.0031 - val_acc: 0.9994\n",
      "\n",
      "Epoch 00030: val_loss did not improve from 0.00282\n",
      "Epoch 31/100\n",
      "182276/182276 [==============================] - 7s 40us/step - loss: 0.0017 - acc: 0.9996 - val_loss: 0.0034 - val_acc: 0.9994\n",
      "\n",
      "Epoch 00031: val_loss did not improve from 0.00282\n",
      "Epoch 32/100\n",
      "182276/182276 [==============================] - 7s 40us/step - loss: 0.0017 - acc: 0.9996 - val_loss: 0.0031 - val_acc: 0.9995\n",
      "\n",
      "Epoch 00032: val_loss did not improve from 0.00282\n",
      "Epoch 33/100\n",
      "182276/182276 [==============================] - 7s 40us/step - loss: 0.0016 - acc: 0.9996 - val_loss: 0.0032 - val_acc: 0.9993\n",
      "\n",
      "Epoch 00033: val_loss did not improve from 0.00282\n",
      "Epoch 34/100\n",
      "182276/182276 [==============================] - 7s 40us/step - loss: 0.0017 - acc: 0.9996 - val_loss: 0.0031 - val_acc: 0.9994\n",
      "\n",
      "Epoch 00034: val_loss did not improve from 0.00282\n",
      "Epoch 35/100\n",
      "182276/182276 [==============================] - 7s 39us/step - loss: 0.0017 - acc: 0.9996 - val_loss: 0.0032 - val_acc: 0.9994\n",
      "\n",
      "Epoch 00035: val_loss did not improve from 0.00282\n",
      "Epoch 36/100\n",
      "182276/182276 [==============================] - 7s 39us/step - loss: 0.0017 - acc: 0.9996 - val_loss: 0.0031 - val_acc: 0.9994\n",
      "\n",
      "Epoch 00036: val_loss did not improve from 0.00282\n",
      "Epoch 37/100\n",
      "182276/182276 [==============================] - 7s 39us/step - loss: 0.0016 - acc: 0.9995 - val_loss: 0.0030 - val_acc: 0.9994\n",
      "\n",
      "Epoch 00037: val_loss did not improve from 0.00282\n",
      "Epoch 38/100\n",
      "182276/182276 [==============================] - 7s 39us/step - loss: 0.0016 - acc: 0.9996 - val_loss: 0.0031 - val_acc: 0.9994\n",
      "\n",
      "Epoch 00038: val_loss did not improve from 0.00282\n",
      "Epoch 39/100\n",
      "182276/182276 [==============================] - 7s 40us/step - loss: 0.0016 - acc: 0.9996 - val_loss: 0.0034 - val_acc: 0.9994\n",
      "\n",
      "Epoch 00039: val_loss did not improve from 0.00282\n",
      "Epoch 40/100\n",
      "182276/182276 [==============================] - 7s 39us/step - loss: 0.0016 - acc: 0.9996 - val_loss: 0.0033 - val_acc: 0.9995\n",
      "\n",
      "Epoch 00040: val_loss did not improve from 0.00282\n",
      "Epoch 41/100\n",
      "182276/182276 [==============================] - 7s 40us/step - loss: 0.0017 - acc: 0.9996 - val_loss: 0.0036 - val_acc: 0.9994\n",
      "\n",
      "Epoch 00041: val_loss did not improve from 0.00282\n",
      "Epoch 42/100\n",
      "182276/182276 [==============================] - 7s 40us/step - loss: 0.0016 - acc: 0.9996 - val_loss: 0.0037 - val_acc: 0.9994\n",
      "\n",
      "Epoch 00042: val_loss did not improve from 0.00282\n",
      "Epoch 43/100\n",
      "182276/182276 [==============================] - 7s 39us/step - loss: 0.0016 - acc: 0.9996 - val_loss: 0.0032 - val_acc: 0.9994\n",
      "\n",
      "Epoch 00043: val_loss did not improve from 0.00282\n",
      "Epoch 44/100\n",
      "182276/182276 [==============================] - 7s 40us/step - loss: 0.0017 - acc: 0.9996 - val_loss: 0.0033 - val_acc: 0.9994\n",
      "\n",
      "Epoch 00044: val_loss did not improve from 0.00282\n",
      "Epoch 45/100\n",
      "182276/182276 [==============================] - 7s 39us/step - loss: 0.0015 - acc: 0.9996 - val_loss: 0.0035 - val_acc: 0.9993\n",
      "\n",
      "Epoch 00045: val_loss did not improve from 0.00282\n",
      "Epoch 46/100\n",
      "182276/182276 [==============================] - 7s 39us/step - loss: 0.0016 - acc: 0.9996 - val_loss: 0.0039 - val_acc: 0.9993\n",
      "\n",
      "Epoch 00046: val_loss did not improve from 0.00282\n",
      "Epoch 47/100\n",
      "182276/182276 [==============================] - 7s 40us/step - loss: 0.0016 - acc: 0.9995 - val_loss: 0.0033 - val_acc: 0.9994\n",
      "\n",
      "Epoch 00047: val_loss did not improve from 0.00282\n",
      "Epoch 48/100\n",
      "182276/182276 [==============================] - 7s 40us/step - loss: 0.0015 - acc: 0.9996 - val_loss: 0.0038 - val_acc: 0.9994\n",
      "\n",
      "Epoch 00048: val_loss did not improve from 0.00282\n",
      "Epoch 49/100\n",
      "182276/182276 [==============================] - 7s 39us/step - loss: 0.0014 - acc: 0.9996 - val_loss: 0.0034 - val_acc: 0.9994\n",
      "\n",
      "Epoch 00049: val_loss did not improve from 0.00282\n",
      "Epoch 50/100\n",
      "182276/182276 [==============================] - 7s 40us/step - loss: 0.0015 - acc: 0.9996 - val_loss: 0.0038 - val_acc: 0.9994\n",
      "\n",
      "Epoch 00050: val_loss did not improve from 0.00282\n",
      "Epoch 51/100\n",
      "182276/182276 [==============================] - 7s 40us/step - loss: 0.0015 - acc: 0.9996 - val_loss: 0.0034 - val_acc: 0.9993\n",
      "\n",
      "Epoch 00051: val_loss did not improve from 0.00282\n",
      "Epoch 52/100\n",
      "182276/182276 [==============================] - 7s 39us/step - loss: 0.0015 - acc: 0.9996 - val_loss: 0.0033 - val_acc: 0.9994\n",
      "\n",
      "Epoch 00052: val_loss did not improve from 0.00282\n",
      "Epoch 53/100\n",
      "182276/182276 [==============================] - 7s 39us/step - loss: 0.0014 - acc: 0.9996 - val_loss: 0.0036 - val_acc: 0.9993\n",
      "\n",
      "Epoch 00053: val_loss did not improve from 0.00282\n",
      "Epoch 54/100\n",
      "182276/182276 [==============================] - 7s 39us/step - loss: 0.0014 - acc: 0.9996 - val_loss: 0.0036 - val_acc: 0.9993\n",
      "\n",
      "Epoch 00054: val_loss did not improve from 0.00282\n",
      "Epoch 55/100\n",
      "182276/182276 [==============================] - 7s 39us/step - loss: 0.0015 - acc: 0.9996 - val_loss: 0.0036 - val_acc: 0.9995\n",
      "\n",
      "Epoch 00055: val_loss did not improve from 0.00282\n",
      "Epoch 56/100\n",
      "182276/182276 [==============================] - 7s 40us/step - loss: 0.0014 - acc: 0.9996 - val_loss: 0.0034 - val_acc: 0.9993\n",
      "\n",
      "Epoch 00056: val_loss did not improve from 0.00282\n",
      "Epoch 57/100\n",
      "182276/182276 [==============================] - 7s 39us/step - loss: 0.0014 - acc: 0.9996 - val_loss: 0.0034 - val_acc: 0.9995\n",
      "\n",
      "Epoch 00057: val_loss did not improve from 0.00282\n",
      "Epoch 58/100\n",
      "182276/182276 [==============================] - 7s 40us/step - loss: 0.0014 - acc: 0.9996 - val_loss: 0.0038 - val_acc: 0.9993\n",
      "\n",
      "Epoch 00058: val_loss did not improve from 0.00282\n",
      "Epoch 59/100\n",
      "182276/182276 [==============================] - 7s 40us/step - loss: 0.0014 - acc: 0.9996 - val_loss: 0.0036 - val_acc: 0.9994\n",
      "\n",
      "Epoch 00059: val_loss did not improve from 0.00282\n",
      "Epoch 60/100\n",
      "182276/182276 [==============================] - 7s 39us/step - loss: 0.0014 - acc: 0.9996 - val_loss: 0.0039 - val_acc: 0.9993\n",
      "\n",
      "Epoch 00060: val_loss did not improve from 0.00282\n",
      "Epoch 61/100\n",
      "182276/182276 [==============================] - 7s 40us/step - loss: 0.0014 - acc: 0.9996 - val_loss: 0.0035 - val_acc: 0.9993\n",
      "\n",
      "Epoch 00061: val_loss did not improve from 0.00282\n",
      "Epoch 62/100\n",
      "182276/182276 [==============================] - 7s 40us/step - loss: 0.0014 - acc: 0.9996 - val_loss: 0.0035 - val_acc: 0.9994\n",
      "\n",
      "Epoch 00062: val_loss did not improve from 0.00282\n",
      "Epoch 63/100\n",
      "182276/182276 [==============================] - 7s 40us/step - loss: 0.0013 - acc: 0.9996 - val_loss: 0.0038 - val_acc: 0.9993\n",
      "\n",
      "Epoch 00063: val_loss did not improve from 0.00282\n",
      "Epoch 64/100\n",
      "182276/182276 [==============================] - 7s 39us/step - loss: 0.0014 - acc: 0.9996 - val_loss: 0.0038 - val_acc: 0.9993\n",
      "\n",
      "Epoch 00064: val_loss did not improve from 0.00282\n",
      "Epoch 65/100\n",
      "182276/182276 [==============================] - 7s 39us/step - loss: 0.0013 - acc: 0.9996 - val_loss: 0.0036 - val_acc: 0.9994\n",
      "\n",
      "Epoch 00065: val_loss did not improve from 0.00282\n",
      "Epoch 66/100\n",
      "182276/182276 [==============================] - 7s 40us/step - loss: 0.0014 - acc: 0.9996 - val_loss: 0.0038 - val_acc: 0.9994\n",
      "\n",
      "Epoch 00066: val_loss did not improve from 0.00282\n",
      "Epoch 67/100\n",
      "182276/182276 [==============================] - 7s 40us/step - loss: 0.0015 - acc: 0.9996 - val_loss: 0.0040 - val_acc: 0.9992\n",
      "\n",
      "Epoch 00067: val_loss did not improve from 0.00282\n",
      "Epoch 68/100\n",
      "182276/182276 [==============================] - 7s 40us/step - loss: 0.0013 - acc: 0.9997 - val_loss: 0.0039 - val_acc: 0.9994\n",
      "\n",
      "Epoch 00068: val_loss did not improve from 0.00282\n",
      "Epoch 69/100\n",
      "182276/182276 [==============================] - 7s 40us/step - loss: 0.0014 - acc: 0.9997 - val_loss: 0.0037 - val_acc: 0.9994\n",
      "\n",
      "Epoch 00069: val_loss did not improve from 0.00282\n",
      "Epoch 70/100\n",
      "182276/182276 [==============================] - 7s 39us/step - loss: 0.0013 - acc: 0.9996 - val_loss: 0.0035 - val_acc: 0.9994\n",
      "\n",
      "Epoch 00070: val_loss did not improve from 0.00282\n",
      "Epoch 71/100\n",
      "182276/182276 [==============================] - 7s 39us/step - loss: 0.0013 - acc: 0.9996 - val_loss: 0.0037 - val_acc: 0.9994\n",
      "\n",
      "Epoch 00071: val_loss did not improve from 0.00282\n",
      "Epoch 72/100\n",
      "182276/182276 [==============================] - 7s 39us/step - loss: 0.0014 - acc: 0.9996 - val_loss: 0.0038 - val_acc: 0.9993\n",
      "\n",
      "Epoch 00072: val_loss did not improve from 0.00282\n",
      "Epoch 73/100\n",
      "182276/182276 [==============================] - 7s 39us/step - loss: 0.0013 - acc: 0.9997 - val_loss: 0.0038 - val_acc: 0.9994\n",
      "\n",
      "Epoch 00073: val_loss did not improve from 0.00282\n",
      "Epoch 74/100\n",
      "182276/182276 [==============================] - 7s 39us/step - loss: 0.0013 - acc: 0.9997 - val_loss: 0.0038 - val_acc: 0.9994\n",
      "\n",
      "Epoch 00074: val_loss did not improve from 0.00282\n",
      "Epoch 75/100\n",
      "182276/182276 [==============================] - 7s 40us/step - loss: 0.0012 - acc: 0.9997 - val_loss: 0.0042 - val_acc: 0.9994\n",
      "\n",
      "Epoch 00075: val_loss did not improve from 0.00282\n",
      "Epoch 76/100\n",
      "182276/182276 [==============================] - 7s 39us/step - loss: 0.0014 - acc: 0.9996 - val_loss: 0.0040 - val_acc: 0.9994\n",
      "\n",
      "Epoch 00076: val_loss did not improve from 0.00282\n",
      "Epoch 77/100\n",
      "182276/182276 [==============================] - 7s 39us/step - loss: 0.0013 - acc: 0.9996 - val_loss: 0.0037 - val_acc: 0.9994\n",
      "\n",
      "Epoch 00077: val_loss did not improve from 0.00282\n",
      "Epoch 78/100\n",
      "182276/182276 [==============================] - 7s 39us/step - loss: 0.0012 - acc: 0.9996 - val_loss: 0.0041 - val_acc: 0.9994\n",
      "\n",
      "Epoch 00078: val_loss did not improve from 0.00282\n",
      "Epoch 79/100\n",
      "182276/182276 [==============================] - 7s 39us/step - loss: 0.0013 - acc: 0.9997 - val_loss: 0.0043 - val_acc: 0.9994\n",
      "\n",
      "Epoch 00079: val_loss did not improve from 0.00282\n",
      "Epoch 80/100\n",
      "182276/182276 [==============================] - 7s 39us/step - loss: 0.0014 - acc: 0.9996 - val_loss: 0.0036 - val_acc: 0.9994\n",
      "\n",
      "Epoch 00080: val_loss did not improve from 0.00282\n",
      "Epoch 81/100\n",
      "182276/182276 [==============================] - 7s 39us/step - loss: 0.0012 - acc: 0.9997 - val_loss: 0.0039 - val_acc: 0.9994\n",
      "\n",
      "Epoch 00081: val_loss did not improve from 0.00282\n",
      "Epoch 82/100\n",
      "182276/182276 [==============================] - 7s 39us/step - loss: 0.0013 - acc: 0.9997 - val_loss: 0.0038 - val_acc: 0.9993\n",
      "\n",
      "Epoch 00082: val_loss did not improve from 0.00282\n",
      "Epoch 83/100\n",
      "182276/182276 [==============================] - 7s 39us/step - loss: 0.0013 - acc: 0.9996 - val_loss: 0.0034 - val_acc: 0.9993\n",
      "\n",
      "Epoch 00083: val_loss did not improve from 0.00282\n",
      "Epoch 84/100\n",
      "182276/182276 [==============================] - 7s 40us/step - loss: 0.0012 - acc: 0.9996 - val_loss: 0.0043 - val_acc: 0.9993\n",
      "\n",
      "Epoch 00084: val_loss did not improve from 0.00282\n",
      "Epoch 85/100\n",
      "182276/182276 [==============================] - 7s 39us/step - loss: 0.0013 - acc: 0.9996 - val_loss: 0.0035 - val_acc: 0.9994\n",
      "\n",
      "Epoch 00085: val_loss did not improve from 0.00282\n",
      "Epoch 86/100\n",
      "182276/182276 [==============================] - 7s 39us/step - loss: 0.0011 - acc: 0.9997 - val_loss: 0.0038 - val_acc: 0.9994\n",
      "\n",
      "Epoch 00086: val_loss did not improve from 0.00282\n",
      "Epoch 87/100\n",
      "182276/182276 [==============================] - 7s 40us/step - loss: 0.0013 - acc: 0.9996 - val_loss: 0.0044 - val_acc: 0.9992\n",
      "\n",
      "Epoch 00087: val_loss did not improve from 0.00282\n",
      "Epoch 88/100\n",
      "182276/182276 [==============================] - 7s 40us/step - loss: 0.0013 - acc: 0.9996 - val_loss: 0.0036 - val_acc: 0.9992\n",
      "\n",
      "Epoch 00088: val_loss did not improve from 0.00282\n",
      "Epoch 89/100\n",
      "182276/182276 [==============================] - 7s 40us/step - loss: 0.0013 - acc: 0.9996 - val_loss: 0.0039 - val_acc: 0.9994\n",
      "\n",
      "Epoch 00089: val_loss did not improve from 0.00282\n",
      "Epoch 90/100\n",
      "182276/182276 [==============================] - 7s 40us/step - loss: 0.0012 - acc: 0.9997 - val_loss: 0.0039 - val_acc: 0.9994\n",
      "\n",
      "Epoch 00090: val_loss did not improve from 0.00282\n",
      "Epoch 91/100\n",
      "182276/182276 [==============================] - 7s 39us/step - loss: 0.0014 - acc: 0.9996 - val_loss: 0.0037 - val_acc: 0.9994\n",
      "\n",
      "Epoch 00091: val_loss did not improve from 0.00282\n",
      "Epoch 92/100\n",
      "182276/182276 [==============================] - 7s 40us/step - loss: 0.0012 - acc: 0.9997 - val_loss: 0.0037 - val_acc: 0.9993\n",
      "\n",
      "Epoch 00092: val_loss did not improve from 0.00282\n",
      "Epoch 93/100\n",
      "182276/182276 [==============================] - 7s 40us/step - loss: 0.0012 - acc: 0.9996 - val_loss: 0.0037 - val_acc: 0.9994\n",
      "\n",
      "Epoch 00093: val_loss did not improve from 0.00282\n",
      "Epoch 94/100\n",
      "182276/182276 [==============================] - 7s 39us/step - loss: 0.0012 - acc: 0.9997 - val_loss: 0.0042 - val_acc: 0.9993\n",
      "\n",
      "Epoch 00094: val_loss did not improve from 0.00282\n",
      "Epoch 95/100\n",
      "182276/182276 [==============================] - 7s 40us/step - loss: 0.0013 - acc: 0.9996 - val_loss: 0.0040 - val_acc: 0.9994\n",
      "\n",
      "Epoch 00095: val_loss did not improve from 0.00282\n",
      "Epoch 96/100\n",
      "182276/182276 [==============================] - 7s 40us/step - loss: 0.0011 - acc: 0.9996 - val_loss: 0.0042 - val_acc: 0.9993\n",
      "\n",
      "Epoch 00096: val_loss did not improve from 0.00282\n",
      "Epoch 97/100\n",
      "182276/182276 [==============================] - 7s 39us/step - loss: 0.0013 - acc: 0.9996 - val_loss: 0.0038 - val_acc: 0.9994\n",
      "\n",
      "Epoch 00097: val_loss did not improve from 0.00282\n",
      "Epoch 98/100\n",
      "182276/182276 [==============================] - 7s 39us/step - loss: 0.0012 - acc: 0.9996 - val_loss: 0.0042 - val_acc: 0.9993\n",
      "\n",
      "Epoch 00098: val_loss did not improve from 0.00282\n",
      "Epoch 99/100\n",
      "182276/182276 [==============================] - 7s 39us/step - loss: 0.0012 - acc: 0.9997 - val_loss: 0.0036 - val_acc: 0.9994\n",
      "\n",
      "Epoch 00099: val_loss did not improve from 0.00282\n",
      "Epoch 100/100\n",
      "182276/182276 [==============================] - 7s 39us/step - loss: 0.0011 - acc: 0.9997 - val_loss: 0.0034 - val_acc: 0.9994\n",
      "\n",
      "Epoch 00100: val_loss did not improve from 0.00282\n",
      "dict_keys(['val_loss', 'val_acc', 'loss', 'acc'])\n"
     ]
    }
   ],
   "source": [
    "# Compiling model\n",
    "classifier.compile(optimizer = 'adam', loss = 'binary_crossentropy', metrics = ['accuracy'])\n",
    "\n",
    "# Saves the model weights after each epoch if the validation loss decreased\n",
    "checkpointer = ModelCheckpoint(filepath = \"model.h5\", verbose = 1, save_best_only = True)\n",
    "\n",
    "# Fitting the model to the Training set\n",
    "history = classifier.fit(X_train, y_train, validation_split =0.2, batch_size = 50, epochs = 100, callbacks = [checkpointer])\n",
    "\n",
    "# list all data in history\n",
    "print(history.history.keys())"
   ]
  },
  {
   "cell_type": "markdown",
   "metadata": {},
   "source": [
    "And load the saved model (just to check if it works):"
   ]
  },
  {
   "cell_type": "code",
   "execution_count": 13,
   "metadata": {},
   "outputs": [],
   "source": [
    "classifier = load_model('model.h5')"
   ]
  },
  {
   "cell_type": "code",
   "execution_count": 15,
   "metadata": {},
   "outputs": [
    {
     "data": {
      "image/png": "[encoded data removed]",
      "text/plain": [
       "<Figure size 432x288 with 1 Axes>"
      ]
     },
     "metadata": {
      "needs_background": "light"
     },
     "output_type": "display_data"
    },
    {
     "data": {
      "image/png": "[encoded data removed]",
      "text/plain": [
       "<Figure size 432x288 with 1 Axes>"
      ]
     },
     "metadata": {
      "needs_background": "light"
     },
     "output_type": "display_data"
    }
   ],
   "source": [
    "# Evaluation\n",
    "\n",
    "# Plot history for accuracy\n",
    "\n",
    "plt.plot(history.history['acc'])\n",
    "plt.plot(history.history['val_acc'])\n",
    "plt.title('Model accuracy')\n",
    "plt.ylabel('Accuracy')\n",
    "plt.xlabel('Epoch')\n",
    "plt.legend(['Train', 'Test'])\n",
    "plt.show()\n",
    "\n",
    "# Plot history for loss\n",
    "\n",
    "plt.plot(history.history['loss'])\n",
    "plt.plot(history.history['val_loss'])\n",
    "plt.title('Model loss')\n",
    "plt.ylabel('Loss')\n",
    "plt.xlabel('Epoch')\n",
    "plt.legend(['Train', 'Test'])\n",
    "plt.show()"
   ]
  },
  {
   "cell_type": "markdown",
   "metadata": {},
   "source": [
    "The reconstruction error on our training and test data seems to converge nicely."
   ]
  },
  {
   "cell_type": "code",
   "execution_count": 16,
   "metadata": {},
   "outputs": [],
   "source": [
    "# Predicting the Test set results\n",
    "y_pred = classifier.predict(X_test)\n",
    "y_pred = (y_pred > 0.5)"
   ]
  },
  {
   "cell_type": "code",
   "execution_count": 17,
   "metadata": {},
   "outputs": [
    {
     "name": "stdout",
     "output_type": "stream",
     "text": [
      "56962/56962 [==============================] - 1s 21us/step\n"
     ]
    },
    {
     "data": {
      "text/plain": [
       "[0.002757571639226876, 0.999403110845827]"
      ]
     },
     "execution_count": 17,
     "metadata": {},
     "output_type": "execute_result"
    }
   ],
   "source": [
    "score = classifier.evaluate(X_test, y_test)\n",
    "score"
   ]
  },
  {
   "cell_type": "code",
   "execution_count": 19,
   "metadata": {},
   "outputs": [
    {
     "data": {
      "text/html": [
       "<div>\n",
       "<style scoped>\n",
       "    .dataframe tbody tr th:only-of-type {\n",
       "        vertical-align: middle;\n",
       "    }\n",
       "\n",
       "    .dataframe tbody tr th {\n",
       "        vertical-align: top;\n",
       "    }\n",
       "\n",
       "    .dataframe thead th {\n",
       "        text-align: right;\n",
       "    }\n",
       "</style>\n",
       "<table border=\"1\" class=\"dataframe\">\n",
       "  <thead>\n",
       "    <tr style=\"text-align: right;\">\n",
       "      <th></th>\n",
       "      <th>reconstruction_error</th>\n",
       "      <th>true_class</th>\n",
       "    </tr>\n",
       "  </thead>\n",
       "  <tbody>\n",
       "    <tr>\n",
       "      <th>count</th>\n",
       "      <td>56962.000000</td>\n",
       "      <td>56962.000000</td>\n",
       "    </tr>\n",
       "    <tr>\n",
       "      <th>mean</th>\n",
       "      <td>1.089012</td>\n",
       "      <td>0.001720</td>\n",
       "    </tr>\n",
       "    <tr>\n",
       "      <th>std</th>\n",
       "      <td>3.922905</td>\n",
       "      <td>0.041443</td>\n",
       "    </tr>\n",
       "    <tr>\n",
       "      <th>min</th>\n",
       "      <td>0.148072</td>\n",
       "      <td>0.000000</td>\n",
       "    </tr>\n",
       "    <tr>\n",
       "      <th>25%</th>\n",
       "      <td>0.422480</td>\n",
       "      <td>0.000000</td>\n",
       "    </tr>\n",
       "    <tr>\n",
       "      <th>50%</th>\n",
       "      <td>0.632098</td>\n",
       "      <td>0.000000</td>\n",
       "    </tr>\n",
       "    <tr>\n",
       "      <th>75%</th>\n",
       "      <td>0.970306</td>\n",
       "      <td>0.000000</td>\n",
       "    </tr>\n",
       "    <tr>\n",
       "      <th>max</th>\n",
       "      <td>275.041239</td>\n",
       "      <td>1.000000</td>\n",
       "    </tr>\n",
       "  </tbody>\n",
       "</table>\n",
       "</div>"
      ],
      "text/plain": [
       "       reconstruction_error    true_class\n",
       "count          56962.000000  56962.000000\n",
       "mean               1.089012      0.001720\n",
       "std                3.922905      0.041443\n",
       "min                0.148072      0.000000\n",
       "25%                0.422480      0.000000\n",
       "50%                0.632098      0.000000\n",
       "75%                0.970306      0.000000\n",
       "max              275.041239      1.000000"
      ]
     },
     "execution_count": 19,
     "metadata": {},
     "output_type": "execute_result"
    }
   ],
   "source": [
    "# Error distribution\n",
    "mse = np.mean(np.power(X_test - y_pred, 2), axis=1)\n",
    "\n",
    "error_df = pd.DataFrame({'reconstruction_error': mse, 'true_class': y_test})\n",
    "error_df.describe()"
   ]
  },
  {
   "cell_type": "code",
   "execution_count": 20,
   "metadata": {},
   "outputs": [
    {
     "name": "stdout",
     "output_type": "stream",
     "text": [
      "              precision    recall  f1-score   support\n",
      "\n",
      "           0       1.00      1.00      1.00     56864\n",
      "           1       0.85      0.80      0.82        98\n",
      "\n",
      "   micro avg       1.00      1.00      1.00     56962\n",
      "   macro avg       0.92      0.90      0.91     56962\n",
      "weighted avg       1.00      1.00      1.00     56962\n",
      "\n"
     ]
    }
   ],
   "source": [
    "#Let's see how our model performed\n",
    "print(classification_report(y_test, y_pred))"
   ]
  },
  {
   "cell_type": "code",
   "execution_count": 21,
   "metadata": {},
   "outputs": [
    {
     "name": "stdout",
     "output_type": "stream",
     "text": [
      "Test Data Accuracy: 0.9994\n"
     ]
    },
    {
     "data": {
      "image/png": "[encoded data removed]",
      "text/plain": [
       "<Figure size 720x504 with 2 Axes>"
      ]
     },
     "metadata": {
      "needs_background": "light"
     },
     "output_type": "display_data"
    }
   ],
   "source": [
    "# Making the Confusion Matrix\n",
    "cm = confusion_matrix(y_test, y_pred) # rows = truth, cols = prediction\n",
    "df_cm = pd.DataFrame(cm, index = (0, 1), columns = (0, 1))\n",
    "plt.figure(figsize = (10,7))\n",
    "sns.set(font_scale=1.4)\n",
    "sns.heatmap(df_cm, annot=True, fmt='g')\n",
    "plt.title(\"Confusion matrix\")\n",
    "plt.ylabel('True class')\n",
    "plt.xlabel('Predicted class')\n",
    "print(\"Test Data Accuracy: %0.4f\" % accuracy_score(y_test, y_pred))"
   ]
  },
  {
   "cell_type": "markdown",
   "metadata": {},
   "source": [
    "### 2. Logistic Regression\n",
    "\n",
    "In this part of the series, we will train a Logistic Regression model with Scikit-learn"
   ]
  },
  {
   "cell_type": "code",
   "execution_count": 55,
   "metadata": {},
   "outputs": [
    {
     "data": {
      "image/png": "[encoded data removed]",
      "text/plain": [
       "<Figure size 432x288 with 1 Axes>"
      ]
     },
     "metadata": {},
     "output_type": "display_data"
    }
   ],
   "source": [
    "Fraud = ccfd_stand[ccfd_stand['Class'] == 1]\n",
    "Normal = ccfd_stand[ccfd_stand['Class'] == 0]\n",
    "\n",
    "ax = Fraud.plot.scatter(x='Amount', y='Class', color='Orange', label='Fraud')\n",
    "Normal.plot.scatter(x='Amount', y='Class', color='Blue', label='Normal', ax=ax)\n",
    "plt.show()"
   ]
  },
  {
   "cell_type": "code",
   "execution_count": 56,
   "metadata": {},
   "outputs": [
    {
     "data": {
      "text/plain": [
       "LogisticRegression(C=0.01, class_weight=None, dual=False, fit_intercept=True,\n",
       "          intercept_scaling=1, max_iter=100, multi_class='warn',\n",
       "          n_jobs=None, penalty='l2', random_state=None, solver='liblinear',\n",
       "          tol=0.0001, verbose=0, warm_start=False)"
      ]
     },
     "execution_count": 56,
     "metadata": {},
     "output_type": "execute_result"
    }
   ],
   "source": [
    "# Logistic Regression model\n",
    "LR = LogisticRegression(C=0.01, solver='liblinear').fit(X_train,y_train)\n",
    "LR"
   ]
  },
  {
   "cell_type": "code",
   "execution_count": 57,
   "metadata": {},
   "outputs": [
    {
     "name": "stdout",
     "output_type": "stream",
     "text": [
      "Test Data Accuracy (Score): 0.99909\n",
      "              precision    recall  f1-score   support\n",
      "\n",
      "           0       1.00      1.00      1.00     56864\n",
      "           1       0.86      0.56      0.68        98\n",
      "\n",
      "   micro avg       1.00      1.00      1.00     56962\n",
      "   macro avg       0.93      0.78      0.84     56962\n",
      "weighted avg       1.00      1.00      1.00     56962\n",
      "\n"
     ]
    }
   ],
   "source": [
    "#Prediction\n",
    "y_pred_log = LR.predict(X_test)\n",
    "\n",
    "# Accuracy\n",
    "print(\"Test Data Accuracy (Score): %0.5f\" % accuracy_score(y_test, y_pred_log))\n",
    "\n",
    "#Let's see how our model performed\n",
    "print(classification_report(y_test, y_pred_log))"
   ]
  },
  {
   "cell_type": "code",
   "execution_count": 58,
   "metadata": {},
   "outputs": [
    {
     "name": "stdout",
     "output_type": "stream",
     "text": [
      "Test Data Accuracy (Score): 0.99909\n"
     ]
    },
    {
     "data": {
      "image/png": "[encoded data removed]",
      "text/plain": [
       "<Figure size 720x504 with 2 Axes>"
      ]
     },
     "metadata": {},
     "output_type": "display_data"
    }
   ],
   "source": [
    "# Making the Confusion Matrix\n",
    "cm = confusion_matrix(y_test, y_pred_log) # rows = truth, cols = prediction\n",
    "df_cm = pd.DataFrame(cm, index = (0, 1), columns = (0, 1))\n",
    "plt.figure(figsize = (10,7))\n",
    "sns.set(font_scale=1.4)\n",
    "sns.heatmap(df_cm, annot=True, fmt='g')\n",
    "plt.title(\"Confusion matrix\")\n",
    "plt.ylabel('True class')\n",
    "plt.xlabel('Predicted class')\n",
    "print(\"Test Data Accuracy (Score): %0.5f\" % accuracy_score(y_test, y_pred_log))"
   ]
  },
  {
   "cell_type": "markdown",
   "metadata": {},
   "source": [
    "### 3. K-Means\n",
    "\n",
    "In this part of the series, we will train a K-Means model with Scikit-learn"
   ]
  },
  {
   "cell_type": "code",
   "execution_count": 62,
   "metadata": {},
   "outputs": [
    {
     "data": {
      "text/plain": [
       "KMeans(algorithm='auto', copy_x=True, init='k-means++', max_iter=300,\n",
       "    n_clusters=2, n_init=50, n_jobs=None, precompute_distances='auto',\n",
       "    random_state=None, tol=0.0001, verbose=0)"
      ]
     },
     "execution_count": 62,
     "metadata": {},
     "output_type": "execute_result"
    }
   ],
   "source": [
    "# M-Means algorithm\n",
    "clusterNum = 2\n",
    "k_means = KMeans(init = \"k-means++\", n_clusters = clusterNum, n_init = 50)\n",
    "k_means.fit(X_train)"
   ]
  },
  {
   "cell_type": "code",
   "execution_count": 63,
   "metadata": {},
   "outputs": [
    {
     "name": "stdout",
     "output_type": "stream",
     "text": [
      "Test Data Accuracy (Score): 0.52577\n",
      "              precision    recall  f1-score   support\n",
      "\n",
      "           0       1.00      0.53      0.69     56864\n",
      "           1       0.00      0.18      0.00        98\n",
      "\n",
      "   micro avg       0.53      0.53      0.53     56962\n",
      "   macro avg       0.50      0.36      0.35     56962\n",
      "weighted avg       1.00      0.53      0.69     56962\n",
      "\n"
     ]
    }
   ],
   "source": [
    "#Prediction\n",
    "y_pred_kmeans = k_means.predict(X_test)\n",
    "\n",
    "# Accuracy\n",
    "print(\"Test Data Accuracy (Score): %0.5f\" % accuracy_score(y_test, y_pred_kmeans))\n",
    "\n",
    "#Let's see how our model performed\n",
    "print(classification_report(y_test, y_pred_kmeans))"
   ]
  },
  {
   "cell_type": "code",
   "execution_count": 64,
   "metadata": {},
   "outputs": [
    {
     "name": "stdout",
     "output_type": "stream",
     "text": [
      "Test Data Accuracy: 0.52577\n"
     ]
    },
    {
     "data": {
      "image/png": "[encoded data removed]",
      "text/plain": [
       "<Figure size 720x504 with 2 Axes>"
      ]
     },
     "metadata": {},
     "output_type": "display_data"
    }
   ],
   "source": [
    "# Making the Confusion Matrix\n",
    "cm = confusion_matrix(y_test, y_pred_kmeans) # rows = truth, cols = prediction\n",
    "df_cm = pd.DataFrame(cm, index = (0, 1), columns = (0, 1))\n",
    "plt.figure(figsize = (10,7))\n",
    "sns.set(font_scale=1.4)\n",
    "sns.heatmap(df_cm, annot=True, fmt='g')\n",
    "plt.title(\"Confusion matrix\")\n",
    "plt.ylabel('True class')\n",
    "plt.xlabel('Predicted class')\n",
    "print(\"Test Data Accuracy: %0.5f\" % accuracy_score(y_test, y_pred_kmeans))"
   ]
  },
  {
   "cell_type": "markdown",
   "metadata": {},
   "source": [
    "## Conclusion\n",
    "\n",
    "I've created a Deep Learning algorithm in Keras, a Clustering and a Classification Machine Learning algorithms that can reconstruct what non fraudulent transactions look like. The following table represents accuracy indices for the three algorithms :"
   ]
  },
  {
   "cell_type": "markdown",
   "metadata": {},
   "source": [
    "| Algorithm           | Score   | f1-score | Precision | Recall |\n",
    "|---------------------|---------|----------|-----------|--------|\n",
    "| Neural Network      | 0.9994  |  0.91    |   0.92    |  0.90  |\n",
    "| Logistic Regression | 0.9991  |  0.84    |   0.93    |  0.78  |        \n",
    "| K-Means             | 0.5257  |  0.35    |   0.36    |  0.50  |\n"
   ]
  },
  {
   "cell_type": "markdown",
   "metadata": {},
   "source": [
    "It's quite clear that Artificial Neural Networks are more performant than other Machine Learning algorithms..."
   ]
  },
  {
   "cell_type": "code",
   "execution_count": null,
   "metadata": {},
   "outputs": [],
   "source": []
  }
 ],
 "metadata": {
  "kernelspec": {
   "display_name": "Python 3",
   "language": "python",
   "name": "python3"
  },
  "language_info": {
   "codemirror_mode": {
    "name": "ipython",
    "version": 3
   },
   "file_extension": ".py",
   "mimetype": "text/x-python",
   "name": "python",
   "nbconvert_exporter": "python",
   "pygments_lexer": "ipython3",
   "version": "3.7.2"
  }
 },
 "nbformat": 4,
 "nbformat_minor": 4
}
